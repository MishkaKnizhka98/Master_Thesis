{
 "cells": [
  {
   "cell_type": "code",
   "execution_count": 1,
   "id": "5a5d2636",
   "metadata": {},
   "outputs": [],
   "source": [
    "import numpy as np\n",
    "import pandas as pd \n",
    "import matplotlib.pyplot as plt\n",
    "import sys, os"
   ]
  },
  {
   "cell_type": "code",
   "execution_count": 2,
   "id": "6345e1a3",
   "metadata": {},
   "outputs": [
    {
     "data": {
      "text/plain": [
       "['01_Sample12_device3_trfSat_dark.dat',\n",
       " '02_Sample12_device3_trfSat_dark.dat',\n",
       " '03_Sample6_device1_trfSat_dark.dat',\n",
       " '04_Sample12_device3_trfSat_dark.dat',\n",
       " '05_Sample12_device3_trfSat_dark.dat',\n",
       " '06_Sample12_device3_trfSat_dark.dat',\n",
       " '07_Sample12_device3_trfSat_dark.dat',\n",
       " '08_Sample12_device3_trfSat_dark.dat',\n",
       " '09_Sample12_device3_trfSat_dark.dat',\n",
       " '10_Sample12_device3_trfSat_dark_vert_foil.csv',\n",
       " '12_Sample12_device3_It_150kV_VDrain1V_VGate1V.csv',\n",
       " '13_Sample12_device3_trfSat_dark_vert_foil.csv',\n",
       " '14_Sample12_device3_It_150kV_VDrain1V_VGate2V.csv',\n",
       " '15_Sample12_device3_trfSat_dark_vert_foil.csv',\n",
       " '16_Sample12_device3_It_150kV_VDrain1V_VGate3V.csv',\n",
       " '17_Sample12_device3_trfSat_dark_vert_foil.csv',\n",
       " '18_Sample12_device3_It_150kV_VDrain1V_VGate5V.csv',\n",
       " '19_Sample12_device3_trfSat_dark_vert_foil.csv',\n",
       " '20_Sample12_device3_It_150kV_VDrain1V_VGate10V.csv',\n",
       " '21_Sample12_device3_trfSat_dark.csv',\n",
       " '22_Sample12_device3_It_150kV_VDrain1V_VGate15V.csv',\n",
       " '23_Sample12_device3_trfSat_dark.csv',\n",
       " '24_Sample12_device3_It_150kV_VDrain1V_VGate20V.csv',\n",
       " '25_Sample12_device3_trfSat_dark.csv',\n",
       " '26_Sample12_device3_It_150kV_VDrain1V_VGate25V.csv',\n",
       " '27_Sample12_device3_trfSat_dark.csv',\n",
       " '28_Sample12_device3_It_150kV_VDrain1V_VGate30V.csv',\n",
       " '29_Sample12_device3_trfSat_dark.csv',\n",
       " '30_Sample12_device3_It_150kV_VDrain1V_VGate35V.dat',\n",
       " '31_Sample12_device3_trfSat_dark.csv',\n",
       " '32_Sample12_device3_It_150kV_VDrain1V_VGate40V.dat',\n",
       " '33_Sample12_device3_trfSat_dark.csv',\n",
       " '34_Sample12_device3_It_150kV_VDrain1V_VGate45V.dat',\n",
       " '35_Sample12_device3_trfSat_dark.csv',\n",
       " '36_Sample12_device3_It_150kV_VDrain1V_VGate50V.csv',\n",
       " '37_Sample12_device3_trfSat_dark.csv',\n",
       " 'Report_Sample12_device3.pptx',\n",
       " 'S12_d3_Sensitivity.xlsx',\n",
       " 'sample12_device3_Xray_15_12_2023.opju',\n",
       " '~$Report_Sample12_device3.pptx']"
      ]
     },
     "execution_count": 2,
     "metadata": {},
     "output_type": "execute_result"
    }
   ],
   "source": [
    "os.listdir(\"Mikhail_Bandurist_Transistors/Strasbourg_Samples/Sample12_device3_15122023\")"
   ]
  },
  {
   "cell_type": "code",
   "execution_count": 3,
   "id": "f887c9fb",
   "metadata": {},
   "outputs": [
    {
     "data": {
      "text/plain": [
       "[None, None, None, None, None, None, None, None, None, None]"
      ]
     },
     "execution_count": 3,
     "metadata": {},
     "output_type": "execute_result"
    }
   ],
   "source": [
    "PATH = [None] * 10\n"
   ]
  }
 ],
 "metadata": {
  "kernelspec": {
   "display_name": "Python 3 (ipykernel)",
   "language": "python",
   "name": "python3"
  },
  "language_info": {
   "codemirror_mode": {
    "name": "ipython",
    "version": 3
   },
   "file_extension": ".py",
   "mimetype": "text/x-python",
   "name": "python",
   "nbconvert_exporter": "python",
   "pygments_lexer": "ipython3",
   "version": "3.9.7"
  }
 },
 "nbformat": 4,
 "nbformat_minor": 5
}
