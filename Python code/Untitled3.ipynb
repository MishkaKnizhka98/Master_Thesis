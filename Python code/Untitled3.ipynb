{
 "cells": [
  {
   "cell_type": "code",
   "execution_count": 56,
   "id": "75c52fc4",
   "metadata": {},
   "outputs": [],
   "source": [
    "import numpy as np\n",
    "import pandas as pd \n",
    "import matplotlib.pyplot as plt\n",
    "import sys, os"
   ]
  },
  {
   "cell_type": "code",
   "execution_count": 2,
   "id": "1a1e3ef7",
   "metadata": {},
   "outputs": [
    {
     "data": {
      "text/plain": [
       "['Batch2_Electrical_Characterisation',\n",
       " 'Sample1',\n",
       " 'Sample10',\n",
       " 'Sample11',\n",
       " 'Sample12',\n",
       " 'Sample12_device3_15122023',\n",
       " 'Sample14',\n",
       " 'Sample4',\n",
       " 'Sample5',\n",
       " 'Sample6',\n",
       " 'Sample7',\n",
       " 'Sample8',\n",
       " 'Sample9',\n",
       " 'X-Ray Measurements (01-11-17-11)',\n",
       " 'X-Ray Measurements (22-11-2023)']"
      ]
     },
     "execution_count": 2,
     "metadata": {},
     "output_type": "execute_result"
    }
   ],
   "source": [
    "os.listdir(\"C:/Users/Admin/Desktop/Master_Thesis/Mikhail_Bandurist_Transistors/Strasbourg_Samples\")"
   ]
  },
  {
   "cell_type": "code",
   "execution_count": 6,
   "id": "c9085c9d",
   "metadata": {},
   "outputs": [
    {
     "data": {
      "text/plain": [
       "['01_Sample12_device3_trfSat_dark.dat',\n",
       " '02_Sample12_device3_trfSat_dark.dat',\n",
       " '03_Sample6_device1_trfSat_dark.dat',\n",
       " '04_Sample12_device3_trfSat_dark.dat',\n",
       " '05_Sample12_device3_trfSat_dark.dat',\n",
       " '06_Sample12_device3_trfSat_dark.dat',\n",
       " '07_Sample12_device3_trfSat_dark.dat',\n",
       " '08_Sample12_device3_trfSat_dark.dat',\n",
       " '09_Sample12_device3_trfSat_dark.dat',\n",
       " '10_Sample12_device3_trfSat_dark_vert_foil.csv',\n",
       " '12_Sample12_device3_It_150kV_VDrain1V_VGate1V.csv',\n",
       " '13_Sample12_device3_trfSat_dark_vert_foil.csv',\n",
       " '14_Sample12_device3_It_150kV_VDrain1V_VGate2V.csv',\n",
       " '15_Sample12_device3_trfSat_dark_vert_foil.csv',\n",
       " '16_Sample12_device3_It_150kV_VDrain1V_VGate3V.csv',\n",
       " '17_Sample12_device3_trfSat_dark_vert_foil.csv',\n",
       " '18_Sample12_device3_It_150kV_VDrain1V_VGate5V.csv',\n",
       " '19_Sample12_device3_trfSat_dark_vert_foil.csv',\n",
       " '20_Sample12_device3_It_150kV_VDrain1V_VGate10V.csv',\n",
       " '21_Sample12_device3_trfSat_dark.csv',\n",
       " '22_Sample12_device3_It_150kV_VDrain1V_VGate15V.csv',\n",
       " '23_Sample12_device3_trfSat_dark.csv',\n",
       " '24_Sample12_device3_It_150kV_VDrain1V_VGate20V.csv',\n",
       " '25_Sample12_device3_trfSat_dark.csv',\n",
       " '26_Sample12_device3_It_150kV_VDrain1V_VGate25V.csv',\n",
       " '27_Sample12_device3_trfSat_dark.csv',\n",
       " '28_Sample12_device3_It_150kV_VDrain1V_VGate30V.csv',\n",
       " '29_Sample12_device3_trfSat_dark.csv',\n",
       " '30_Sample12_device3_It_150kV_VDrain1V_VGate35V.dat',\n",
       " '31_Sample12_device3_trfSat_dark.csv',\n",
       " '32_Sample12_device3_It_150kV_VDrain1V_VGate40V.dat',\n",
       " '33_Sample12_device3_trfSat_dark.csv',\n",
       " '34_Sample12_device3_It_150kV_VDrain1V_VGate45V.dat',\n",
       " '35_Sample12_device3_trfSat_dark.csv',\n",
       " '36_Sample12_device3_It_150kV_VDrain1V_VGate50V.csv',\n",
       " '37_Sample12_device3_trfSat_dark.csv',\n",
       " 'Report_Sample12_device3.pptx',\n",
       " 'S12_d3_Sensitivity.xlsx',\n",
       " 'sample12_device3_Xray_15_12_2023.opju',\n",
       " '~$Report_Sample12_device3.pptx']"
      ]
     },
     "execution_count": 6,
     "metadata": {},
     "output_type": "execute_result"
    }
   ],
   "source": [
    "os.listdir(\"Mikhail_Bandurist_Transistors/Strasbourg_Samples/Sample12_device3_15122023\")"
   ]
  },
  {
   "cell_type": "code",
   "execution_count": 29,
   "id": "2cf9d074",
   "metadata": {},
   "outputs": [],
   "source": [
    "PATH = \"Mikhail_Bandurist_Transistors/Strasbourg_Samples/Sample12_device3_15122023/12_Sample12_device3_It_150kV_VDrain1V_VGate1V.csv\""
   ]
  },
  {
   "cell_type": "code",
   "execution_count": 40,
   "id": "f94dc17e",
   "metadata": {},
   "outputs": [],
   "source": [
    "df = pd.read_csv(PATH, header=10, delimiter=\";\", usecols=[\"Time(ms)\", \"Idrain(A)\"])"
   ]
  },
  {
   "cell_type": "code",
   "execution_count": 41,
   "id": "0c19d32b",
   "metadata": {},
   "outputs": [
    {
     "data": {
      "text/html": [
       "<div>\n",
       "<style scoped>\n",
       "    .dataframe tbody tr th:only-of-type {\n",
       "        vertical-align: middle;\n",
       "    }\n",
       "\n",
       "    .dataframe tbody tr th {\n",
       "        vertical-align: top;\n",
       "    }\n",
       "\n",
       "    .dataframe thead th {\n",
       "        text-align: right;\n",
       "    }\n",
       "</style>\n",
       "<table border=\"1\" class=\"dataframe\">\n",
       "  <thead>\n",
       "    <tr style=\"text-align: right;\">\n",
       "      <th></th>\n",
       "      <th>Time(ms)</th>\n",
       "      <th>Idrain(A)</th>\n",
       "    </tr>\n",
       "  </thead>\n",
       "  <tbody>\n",
       "    <tr>\n",
       "      <th>1540</th>\n",
       "      <td>771000.0</td>\n",
       "      <td>6.290000e-10</td>\n",
       "    </tr>\n",
       "    <tr>\n",
       "      <th>1479</th>\n",
       "      <td>740000.0</td>\n",
       "      <td>1.470000e-11</td>\n",
       "    </tr>\n",
       "    <tr>\n",
       "      <th>1017</th>\n",
       "      <td>509000.0</td>\n",
       "      <td>4.810000e-10</td>\n",
       "    </tr>\n",
       "    <tr>\n",
       "      <th>830</th>\n",
       "      <td>416000.0</td>\n",
       "      <td>4.010000e-10</td>\n",
       "    </tr>\n",
       "    <tr>\n",
       "      <th>139</th>\n",
       "      <td>70000.0</td>\n",
       "      <td>1.930000e-10</td>\n",
       "    </tr>\n",
       "    <tr>\n",
       "      <th>57</th>\n",
       "      <td>29000.0</td>\n",
       "      <td>3.360000e-10</td>\n",
       "    </tr>\n",
       "    <tr>\n",
       "      <th>262</th>\n",
       "      <td>131000.0</td>\n",
       "      <td>1.280000e-10</td>\n",
       "    </tr>\n",
       "    <tr>\n",
       "      <th>767</th>\n",
       "      <td>384000.0</td>\n",
       "      <td>4.680000e-11</td>\n",
       "    </tr>\n",
       "    <tr>\n",
       "      <th>338</th>\n",
       "      <td>169000.0</td>\n",
       "      <td>1.060000e-10</td>\n",
       "    </tr>\n",
       "    <tr>\n",
       "      <th>227</th>\n",
       "      <td>114000.0</td>\n",
       "      <td>1.400000e-10</td>\n",
       "    </tr>\n",
       "  </tbody>\n",
       "</table>\n",
       "</div>"
      ],
      "text/plain": [
       "      Time(ms)     Idrain(A)\n",
       "1540  771000.0  6.290000e-10\n",
       "1479  740000.0  1.470000e-11\n",
       "1017  509000.0  4.810000e-10\n",
       "830   416000.0  4.010000e-10\n",
       "139    70000.0  1.930000e-10\n",
       "57     29000.0  3.360000e-10\n",
       "262   131000.0  1.280000e-10\n",
       "767   384000.0  4.680000e-11\n",
       "338   169000.0  1.060000e-10\n",
       "227   114000.0  1.400000e-10"
      ]
     },
     "execution_count": 41,
     "metadata": {},
     "output_type": "execute_result"
    }
   ],
   "source": [
    "df.sample(10)"
   ]
  },
  {
   "cell_type": "code",
   "execution_count": 42,
   "id": "36eeecc9",
   "metadata": {},
   "outputs": [
    {
     "data": {
      "text/plain": [
       "(1608, 2)"
      ]
     },
     "execution_count": 42,
     "metadata": {},
     "output_type": "execute_result"
    }
   ],
   "source": [
    "df.shape"
   ]
  },
  {
   "cell_type": "code",
   "execution_count": 46,
   "id": "6bd30acd",
   "metadata": {},
   "outputs": [],
   "source": [
    "df = df.rename(columns={\"Time(ms)\": \"Time (s)\", \"Idrain(A)\": \"IDrain (A)\"})"
   ]
  },
  {
   "cell_type": "code",
   "execution_count": 47,
   "id": "68a4c44d",
   "metadata": {},
   "outputs": [
    {
     "data": {
      "text/html": [
       "<div>\n",
       "<style scoped>\n",
       "    .dataframe tbody tr th:only-of-type {\n",
       "        vertical-align: middle;\n",
       "    }\n",
       "\n",
       "    .dataframe tbody tr th {\n",
       "        vertical-align: top;\n",
       "    }\n",
       "\n",
       "    .dataframe thead th {\n",
       "        text-align: right;\n",
       "    }\n",
       "</style>\n",
       "<table border=\"1\" class=\"dataframe\">\n",
       "  <thead>\n",
       "    <tr style=\"text-align: right;\">\n",
       "      <th></th>\n",
       "      <th>Time (s)</th>\n",
       "      <th>IDrain (A)</th>\n",
       "    </tr>\n",
       "  </thead>\n",
       "  <tbody>\n",
       "    <tr>\n",
       "      <th>0</th>\n",
       "      <td>0.0</td>\n",
       "      <td>8.870000e-10</td>\n",
       "    </tr>\n",
       "    <tr>\n",
       "      <th>1</th>\n",
       "      <td>990.0</td>\n",
       "      <td>8.240000e-10</td>\n",
       "    </tr>\n",
       "    <tr>\n",
       "      <th>2</th>\n",
       "      <td>1490.0</td>\n",
       "      <td>7.810000e-10</td>\n",
       "    </tr>\n",
       "    <tr>\n",
       "      <th>3</th>\n",
       "      <td>1990.0</td>\n",
       "      <td>7.620000e-10</td>\n",
       "    </tr>\n",
       "    <tr>\n",
       "      <th>4</th>\n",
       "      <td>2490.0</td>\n",
       "      <td>7.430000e-10</td>\n",
       "    </tr>\n",
       "    <tr>\n",
       "      <th>5</th>\n",
       "      <td>2990.0</td>\n",
       "      <td>7.210000e-10</td>\n",
       "    </tr>\n",
       "    <tr>\n",
       "      <th>6</th>\n",
       "      <td>3490.0</td>\n",
       "      <td>7.030000e-10</td>\n",
       "    </tr>\n",
       "    <tr>\n",
       "      <th>7</th>\n",
       "      <td>3990.0</td>\n",
       "      <td>7.000000e-10</td>\n",
       "    </tr>\n",
       "    <tr>\n",
       "      <th>8</th>\n",
       "      <td>4490.0</td>\n",
       "      <td>6.750000e-10</td>\n",
       "    </tr>\n",
       "    <tr>\n",
       "      <th>9</th>\n",
       "      <td>4990.0</td>\n",
       "      <td>6.590000e-10</td>\n",
       "    </tr>\n",
       "  </tbody>\n",
       "</table>\n",
       "</div>"
      ],
      "text/plain": [
       "   Time (s)    IDrain (A)\n",
       "0       0.0  8.870000e-10\n",
       "1     990.0  8.240000e-10\n",
       "2    1490.0  7.810000e-10\n",
       "3    1990.0  7.620000e-10\n",
       "4    2490.0  7.430000e-10\n",
       "5    2990.0  7.210000e-10\n",
       "6    3490.0  7.030000e-10\n",
       "7    3990.0  7.000000e-10\n",
       "8    4490.0  6.750000e-10\n",
       "9    4990.0  6.590000e-10"
      ]
     },
     "execution_count": 47,
     "metadata": {},
     "output_type": "execute_result"
    }
   ],
   "source": [
    "df.head(10)"
   ]
  },
  {
   "cell_type": "code",
   "execution_count": 52,
   "id": "5b918444",
   "metadata": {},
   "outputs": [
    {
     "data": {
      "text/html": [
       "<div>\n",
       "<style scoped>\n",
       "    .dataframe tbody tr th:only-of-type {\n",
       "        vertical-align: middle;\n",
       "    }\n",
       "\n",
       "    .dataframe tbody tr th {\n",
       "        vertical-align: top;\n",
       "    }\n",
       "\n",
       "    .dataframe thead th {\n",
       "        text-align: right;\n",
       "    }\n",
       "</style>\n",
       "<table border=\"1\" class=\"dataframe\">\n",
       "  <thead>\n",
       "    <tr style=\"text-align: right;\">\n",
       "      <th></th>\n",
       "      <th>Time (s)</th>\n",
       "      <th>IDrain (A)</th>\n",
       "    </tr>\n",
       "  </thead>\n",
       "  <tbody>\n",
       "    <tr>\n",
       "      <th>0</th>\n",
       "      <td>0.00</td>\n",
       "      <td>8.870000e-10</td>\n",
       "    </tr>\n",
       "    <tr>\n",
       "      <th>1</th>\n",
       "      <td>0.99</td>\n",
       "      <td>8.240000e-10</td>\n",
       "    </tr>\n",
       "    <tr>\n",
       "      <th>2</th>\n",
       "      <td>1.49</td>\n",
       "      <td>7.810000e-10</td>\n",
       "    </tr>\n",
       "    <tr>\n",
       "      <th>3</th>\n",
       "      <td>1.99</td>\n",
       "      <td>7.620000e-10</td>\n",
       "    </tr>\n",
       "    <tr>\n",
       "      <th>4</th>\n",
       "      <td>2.49</td>\n",
       "      <td>7.430000e-10</td>\n",
       "    </tr>\n",
       "    <tr>\n",
       "      <th>5</th>\n",
       "      <td>2.99</td>\n",
       "      <td>7.210000e-10</td>\n",
       "    </tr>\n",
       "    <tr>\n",
       "      <th>6</th>\n",
       "      <td>3.49</td>\n",
       "      <td>7.030000e-10</td>\n",
       "    </tr>\n",
       "    <tr>\n",
       "      <th>7</th>\n",
       "      <td>3.99</td>\n",
       "      <td>7.000000e-10</td>\n",
       "    </tr>\n",
       "    <tr>\n",
       "      <th>8</th>\n",
       "      <td>4.49</td>\n",
       "      <td>6.750000e-10</td>\n",
       "    </tr>\n",
       "    <tr>\n",
       "      <th>9</th>\n",
       "      <td>4.99</td>\n",
       "      <td>6.590000e-10</td>\n",
       "    </tr>\n",
       "  </tbody>\n",
       "</table>\n",
       "</div>"
      ],
      "text/plain": [
       "   Time (s)    IDrain (A)\n",
       "0      0.00  8.870000e-10\n",
       "1      0.99  8.240000e-10\n",
       "2      1.49  7.810000e-10\n",
       "3      1.99  7.620000e-10\n",
       "4      2.49  7.430000e-10\n",
       "5      2.99  7.210000e-10\n",
       "6      3.49  7.030000e-10\n",
       "7      3.99  7.000000e-10\n",
       "8      4.49  6.750000e-10\n",
       "9      4.99  6.590000e-10"
      ]
     },
     "execution_count": 52,
     "metadata": {},
     "output_type": "execute_result"
    }
   ],
   "source": [
    "df[\"Time (s)\"] *= 1000\n",
    "df.head(10)"
   ]
  },
  {
   "cell_type": "code",
   "execution_count": 53,
   "id": "09efeb61",
   "metadata": {},
   "outputs": [
    {
     "data": {
      "text/html": [
       "<div>\n",
       "<style scoped>\n",
       "    .dataframe tbody tr th:only-of-type {\n",
       "        vertical-align: middle;\n",
       "    }\n",
       "\n",
       "    .dataframe tbody tr th {\n",
       "        vertical-align: top;\n",
       "    }\n",
       "\n",
       "    .dataframe thead th {\n",
       "        text-align: right;\n",
       "    }\n",
       "</style>\n",
       "<table border=\"1\" class=\"dataframe\">\n",
       "  <thead>\n",
       "    <tr style=\"text-align: right;\">\n",
       "      <th></th>\n",
       "      <th>Time (s)</th>\n",
       "      <th>IDrain (A)</th>\n",
       "    </tr>\n",
       "  </thead>\n",
       "  <tbody>\n",
       "    <tr>\n",
       "      <th>0</th>\n",
       "      <td>0.00</td>\n",
       "      <td>8.870000e-10</td>\n",
       "    </tr>\n",
       "    <tr>\n",
       "      <th>1</th>\n",
       "      <td>0.99</td>\n",
       "      <td>8.240000e-10</td>\n",
       "    </tr>\n",
       "    <tr>\n",
       "      <th>2</th>\n",
       "      <td>1.49</td>\n",
       "      <td>7.810000e-10</td>\n",
       "    </tr>\n",
       "    <tr>\n",
       "      <th>3</th>\n",
       "      <td>1.99</td>\n",
       "      <td>7.620000e-10</td>\n",
       "    </tr>\n",
       "    <tr>\n",
       "      <th>4</th>\n",
       "      <td>2.49</td>\n",
       "      <td>7.430000e-10</td>\n",
       "    </tr>\n",
       "    <tr>\n",
       "      <th>5</th>\n",
       "      <td>2.99</td>\n",
       "      <td>7.210000e-10</td>\n",
       "    </tr>\n",
       "    <tr>\n",
       "      <th>6</th>\n",
       "      <td>3.49</td>\n",
       "      <td>7.030000e-10</td>\n",
       "    </tr>\n",
       "    <tr>\n",
       "      <th>7</th>\n",
       "      <td>3.99</td>\n",
       "      <td>7.000000e-10</td>\n",
       "    </tr>\n",
       "    <tr>\n",
       "      <th>8</th>\n",
       "      <td>4.49</td>\n",
       "      <td>6.750000e-10</td>\n",
       "    </tr>\n",
       "    <tr>\n",
       "      <th>9</th>\n",
       "      <td>4.99</td>\n",
       "      <td>6.590000e-10</td>\n",
       "    </tr>\n",
       "  </tbody>\n",
       "</table>\n",
       "</div>"
      ],
      "text/plain": [
       "   Time (s)    IDrain (A)\n",
       "0      0.00  8.870000e-10\n",
       "1      0.99  8.240000e-10\n",
       "2      1.49  7.810000e-10\n",
       "3      1.99  7.620000e-10\n",
       "4      2.49  7.430000e-10\n",
       "5      2.99  7.210000e-10\n",
       "6      3.49  7.030000e-10\n",
       "7      3.99  7.000000e-10\n",
       "8      4.49  6.750000e-10\n",
       "9      4.99  6.590000e-10"
      ]
     },
     "execution_count": 53,
     "metadata": {},
     "output_type": "execute_result"
    }
   ],
   "source": [
    "df.head(10)"
   ]
  },
  {
   "cell_type": "code",
   "execution_count": 57,
   "id": "64b1a43b",
   "metadata": {},
   "outputs": [
    {
     "data": {
      "text/plain": [
       "[<matplotlib.lines.Line2D at 0x23cfae76370>]"
      ]
     },
     "execution_count": 57,
     "metadata": {},
     "output_type": "execute_result"
    },
    {
     "data": {
      "image/png": "[encoded data removed]",
      "text/plain": [
       "<Figure size 432x288 with 1 Axes>"
      ]
     },
     "metadata": {
      "needs_background": "light"
     },
     "output_type": "display_data"
    }
   ],
   "source": [
    "plt.plot(df[\"Time (s)\"], df[\"IDrain (A)\"])"
   ]
  },
  {
   "cell_type": "code",
   "execution_count": 65,
   "id": "1170c95b",
   "metadata": {},
   "outputs": [],
   "source": [
    "first = 705\n",
    "last = 728\n",
    "\n",
    "selected_rows = df.loc[(df['Time (s)'] >= 704) & (df['Time (s)'] <= 729)]"
   ]
  },
  {
   "cell_type": "code",
   "execution_count": 63,
   "id": "1ce86a98",
   "metadata": {},
   "outputs": [
    {
     "data": {
      "text/html": [
       "<div>\n",
       "<style scoped>\n",
       "    .dataframe tbody tr th:only-of-type {\n",
       "        vertical-align: middle;\n",
       "    }\n",
       "\n",
       "    .dataframe tbody tr th {\n",
       "        vertical-align: top;\n",
       "    }\n",
       "\n",
       "    .dataframe thead th {\n",
       "        text-align: right;\n",
       "    }\n",
       "</style>\n",
       "<table border=\"1\" class=\"dataframe\">\n",
       "  <thead>\n",
       "    <tr style=\"text-align: right;\">\n",
       "      <th></th>\n",
       "      <th>Time (s)</th>\n",
       "      <th>IDrain (A)</th>\n",
       "    </tr>\n",
       "  </thead>\n",
       "  <tbody>\n",
       "    <tr>\n",
       "      <th>1416</th>\n",
       "      <td>709.0</td>\n",
       "      <td>6.370000e-10</td>\n",
       "    </tr>\n",
       "    <tr>\n",
       "      <th>1417</th>\n",
       "      <td>709.0</td>\n",
       "      <td>6.370000e-10</td>\n",
       "    </tr>\n",
       "    <tr>\n",
       "      <th>1418</th>\n",
       "      <td>710.0</td>\n",
       "      <td>6.370000e-10</td>\n",
       "    </tr>\n",
       "    <tr>\n",
       "      <th>1419</th>\n",
       "      <td>710.0</td>\n",
       "      <td>6.360000e-10</td>\n",
       "    </tr>\n",
       "    <tr>\n",
       "      <th>1420</th>\n",
       "      <td>711.0</td>\n",
       "      <td>6.350000e-10</td>\n",
       "    </tr>\n",
       "    <tr>\n",
       "      <th>1421</th>\n",
       "      <td>711.0</td>\n",
       "      <td>6.350000e-10</td>\n",
       "    </tr>\n",
       "    <tr>\n",
       "      <th>1422</th>\n",
       "      <td>712.0</td>\n",
       "      <td>6.340000e-10</td>\n",
       "    </tr>\n",
       "    <tr>\n",
       "      <th>1423</th>\n",
       "      <td>712.0</td>\n",
       "      <td>6.340000e-10</td>\n",
       "    </tr>\n",
       "    <tr>\n",
       "      <th>1424</th>\n",
       "      <td>713.0</td>\n",
       "      <td>6.340000e-10</td>\n",
       "    </tr>\n",
       "    <tr>\n",
       "      <th>1425</th>\n",
       "      <td>713.0</td>\n",
       "      <td>6.330000e-10</td>\n",
       "    </tr>\n",
       "    <tr>\n",
       "      <th>1426</th>\n",
       "      <td>714.0</td>\n",
       "      <td>6.330000e-10</td>\n",
       "    </tr>\n",
       "    <tr>\n",
       "      <th>1427</th>\n",
       "      <td>714.0</td>\n",
       "      <td>6.330000e-10</td>\n",
       "    </tr>\n",
       "    <tr>\n",
       "      <th>1428</th>\n",
       "      <td>715.0</td>\n",
       "      <td>6.330000e-10</td>\n",
       "    </tr>\n",
       "    <tr>\n",
       "      <th>1429</th>\n",
       "      <td>715.0</td>\n",
       "      <td>6.320000e-10</td>\n",
       "    </tr>\n",
       "    <tr>\n",
       "      <th>1430</th>\n",
       "      <td>716.0</td>\n",
       "      <td>6.320000e-10</td>\n",
       "    </tr>\n",
       "    <tr>\n",
       "      <th>1431</th>\n",
       "      <td>716.0</td>\n",
       "      <td>6.310000e-10</td>\n",
       "    </tr>\n",
       "    <tr>\n",
       "      <th>1432</th>\n",
       "      <td>717.0</td>\n",
       "      <td>6.310000e-10</td>\n",
       "    </tr>\n",
       "    <tr>\n",
       "      <th>1433</th>\n",
       "      <td>717.0</td>\n",
       "      <td>7.000000e-11</td>\n",
       "    </tr>\n",
       "    <tr>\n",
       "      <th>1434</th>\n",
       "      <td>718.0</td>\n",
       "      <td>2.230000e-11</td>\n",
       "    </tr>\n",
       "    <tr>\n",
       "      <th>1435</th>\n",
       "      <td>718.0</td>\n",
       "      <td>1.800000e-11</td>\n",
       "    </tr>\n",
       "    <tr>\n",
       "      <th>1436</th>\n",
       "      <td>719.0</td>\n",
       "      <td>1.670000e-11</td>\n",
       "    </tr>\n",
       "    <tr>\n",
       "      <th>1437</th>\n",
       "      <td>719.0</td>\n",
       "      <td>1.620000e-11</td>\n",
       "    </tr>\n",
       "    <tr>\n",
       "      <th>1438</th>\n",
       "      <td>720.0</td>\n",
       "      <td>1.580000e-11</td>\n",
       "    </tr>\n",
       "    <tr>\n",
       "      <th>1439</th>\n",
       "      <td>720.0</td>\n",
       "      <td>1.570000e-11</td>\n",
       "    </tr>\n",
       "    <tr>\n",
       "      <th>1440</th>\n",
       "      <td>721.0</td>\n",
       "      <td>1.570000e-11</td>\n",
       "    </tr>\n",
       "    <tr>\n",
       "      <th>1441</th>\n",
       "      <td>721.0</td>\n",
       "      <td>1.560000e-11</td>\n",
       "    </tr>\n",
       "    <tr>\n",
       "      <th>1442</th>\n",
       "      <td>722.0</td>\n",
       "      <td>1.560000e-11</td>\n",
       "    </tr>\n",
       "    <tr>\n",
       "      <th>1443</th>\n",
       "      <td>722.0</td>\n",
       "      <td>1.530000e-11</td>\n",
       "    </tr>\n",
       "    <tr>\n",
       "      <th>1444</th>\n",
       "      <td>723.0</td>\n",
       "      <td>1.550000e-11</td>\n",
       "    </tr>\n",
       "    <tr>\n",
       "      <th>1445</th>\n",
       "      <td>723.0</td>\n",
       "      <td>1.540000e-11</td>\n",
       "    </tr>\n",
       "    <tr>\n",
       "      <th>1446</th>\n",
       "      <td>724.0</td>\n",
       "      <td>1.550000e-11</td>\n",
       "    </tr>\n",
       "    <tr>\n",
       "      <th>1447</th>\n",
       "      <td>724.0</td>\n",
       "      <td>1.550000e-11</td>\n",
       "    </tr>\n",
       "    <tr>\n",
       "      <th>1448</th>\n",
       "      <td>725.0</td>\n",
       "      <td>1.550000e-11</td>\n",
       "    </tr>\n",
       "    <tr>\n",
       "      <th>1449</th>\n",
       "      <td>725.0</td>\n",
       "      <td>1.550000e-11</td>\n",
       "    </tr>\n",
       "    <tr>\n",
       "      <th>1450</th>\n",
       "      <td>726.0</td>\n",
       "      <td>1.560000e-11</td>\n",
       "    </tr>\n",
       "    <tr>\n",
       "      <th>1451</th>\n",
       "      <td>726.0</td>\n",
       "      <td>1.570000e-11</td>\n",
       "    </tr>\n",
       "    <tr>\n",
       "      <th>1452</th>\n",
       "      <td>727.0</td>\n",
       "      <td>1.560000e-11</td>\n",
       "    </tr>\n",
       "    <tr>\n",
       "      <th>1453</th>\n",
       "      <td>727.0</td>\n",
       "      <td>6.250000e-10</td>\n",
       "    </tr>\n",
       "    <tr>\n",
       "      <th>1454</th>\n",
       "      <td>728.0</td>\n",
       "      <td>6.320000e-10</td>\n",
       "    </tr>\n",
       "    <tr>\n",
       "      <th>1455</th>\n",
       "      <td>728.0</td>\n",
       "      <td>6.330000e-10</td>\n",
       "    </tr>\n",
       "    <tr>\n",
       "      <th>1456</th>\n",
       "      <td>729.0</td>\n",
       "      <td>6.340000e-10</td>\n",
       "    </tr>\n",
       "    <tr>\n",
       "      <th>1457</th>\n",
       "      <td>729.0</td>\n",
       "      <td>6.340000e-10</td>\n",
       "    </tr>\n",
       "  </tbody>\n",
       "</table>\n",
       "</div>"
      ],
      "text/plain": [
       "      Time (s)    IDrain (A)\n",
       "1416     709.0  6.370000e-10\n",
       "1417     709.0  6.370000e-10\n",
       "1418     710.0  6.370000e-10\n",
       "1419     710.0  6.360000e-10\n",
       "1420     711.0  6.350000e-10\n",
       "1421     711.0  6.350000e-10\n",
       "1422     712.0  6.340000e-10\n",
       "1423     712.0  6.340000e-10\n",
       "1424     713.0  6.340000e-10\n",
       "1425     713.0  6.330000e-10\n",
       "1426     714.0  6.330000e-10\n",
       "1427     714.0  6.330000e-10\n",
       "1428     715.0  6.330000e-10\n",
       "1429     715.0  6.320000e-10\n",
       "1430     716.0  6.320000e-10\n",
       "1431     716.0  6.310000e-10\n",
       "1432     717.0  6.310000e-10\n",
       "1433     717.0  7.000000e-11\n",
       "1434     718.0  2.230000e-11\n",
       "1435     718.0  1.800000e-11\n",
       "1436     719.0  1.670000e-11\n",
       "1437     719.0  1.620000e-11\n",
       "1438     720.0  1.580000e-11\n",
       "1439     720.0  1.570000e-11\n",
       "1440     721.0  1.570000e-11\n",
       "1441     721.0  1.560000e-11\n",
       "1442     722.0  1.560000e-11\n",
       "1443     722.0  1.530000e-11\n",
       "1444     723.0  1.550000e-11\n",
       "1445     723.0  1.540000e-11\n",
       "1446     724.0  1.550000e-11\n",
       "1447     724.0  1.550000e-11\n",
       "1448     725.0  1.550000e-11\n",
       "1449     725.0  1.550000e-11\n",
       "1450     726.0  1.560000e-11\n",
       "1451     726.0  1.570000e-11\n",
       "1452     727.0  1.560000e-11\n",
       "1453     727.0  6.250000e-10\n",
       "1454     728.0  6.320000e-10\n",
       "1455     728.0  6.330000e-10\n",
       "1456     729.0  6.340000e-10\n",
       "1457     729.0  6.340000e-10"
      ]
     },
     "execution_count": 63,
     "metadata": {},
     "output_type": "execute_result"
    }
   ],
   "source": [
    "selected_rows"
   ]
  },
  {
   "cell_type": "code",
   "execution_count": 72,
   "id": "20304e9e",
   "metadata": {},
   "outputs": [
    {
     "data": {
      "image/png": "[encoded data removed]",
      "text/plain": [
       "<Figure size 432x288 with 1 Axes>"
      ]
     },
     "metadata": {
      "needs_background": "light"
     },
     "output_type": "display_data"
    }
   ],
   "source": [
    "plt.plot(selected_rows[\"Time (s)\"], selected_rows[\"IDrain (A)\"])\n",
    "plt.title(\"My Plot\")\n",
    "plt.xlabel(\"Time\")\n",
    "plt.ylabel(\"IDrain\")\n",
    "plt.show()"
   ]
  },
  {
   "cell_type": "code",
   "execution_count": 73,
   "id": "250567d6",
   "metadata": {},
   "outputs": [
    {
     "data": {
      "text/plain": [
       "[50, 52, 54, 56, 58, 60, 62, 64, 66, 68, 70, 72, 74, 76, 78, 80]"
      ]
     },
     "execution_count": 73,
     "metadata": {},
     "output_type": "execute_result"
    }
   ],
   "source": [
    "income_ticks = list(range(50,81,2))\n",
    "income_ticks"
   ]
  },
  {
   "cell_type": "code",
   "execution_count": 74,
   "id": "1a1596af",
   "metadata": {},
   "outputs": [],
   "source": [
    "from matplotlib.widgets import Slider"
   ]
  },
  {
   "cell_type": "code",
   "execution_count": 96,
   "id": "4c7ffb34",
   "metadata": {},
   "outputs": [
    {
     "data": {
      "image/png": "[encoded data removed]",
      "text/plain": [
       "<Figure size 432x288 with 2 Axes>"
      ]
     },
     "metadata": {
      "needs_background": "light"
     },
     "output_type": "display_data"
    }
   ],
   "source": [
    "fig, ax = plt.subplots()\n",
    "plt.subplots_adjust(bottom=0.25)\n",
    "l, = ax.plot(selected_rows[\"Time (s)\"], selected_rows[\"IDrain (A)\"], lw=2)\n",
    "income_ticks = [float(i) / 10000000000 for i in range(0, 20, 2)]\n",
    "plt.yticks(income_ticks)\n",
    "\n",
    "ax_slider = plt.axes(arg=[0.25, 0.1, 0.65, 0.03], facecolor = \"lightgoldenrodyellow\")\n",
    "slider = Slider(ax_slider, label=\"X-shift\", valmin=-100, valmax=100, valinit=0)\n"
   ]
  },
  {
   "cell_type": "code",
   "execution_count": 90,
   "id": "66cbd5bf",
   "metadata": {},
   "outputs": [],
   "source": [
    "def update(value):\n",
    "    x_shift = slider.val\n",
    "    l.set_ydata(selected_rows[\"IDrain (A)\"])\n",
    "    l.set_xdata(selected_rows[\"Time (s)\"]+x_shift)\n",
    "    fig.canvas.draw_idle()"
   ]
  },
  {
   "cell_type": "code",
   "execution_count": null,
   "id": "bd4735b4",
   "metadata": {},
   "outputs": [],
   "source": []
  },
  {
   "cell_type": "code",
   "execution_count": 91,
   "id": "270ec0b5",
   "metadata": {},
   "outputs": [],
   "source": [
    "slider.on_changed(update)\n",
    "\n",
    "plt.show()\n"
   ]
  },
  {
   "cell_type": "code",
   "execution_count": 92,
   "id": "af235f85",
   "metadata": {},
   "outputs": [
    {
     "data": {
      "text/plain": [
       "pandas.core.frame.DataFrame"
      ]
     },
     "execution_count": 92,
     "metadata": {},
     "output_type": "execute_result"
    }
   ],
   "source": [
    "type(selected_rows)"
   ]
  },
  {
   "cell_type": "code",
   "execution_count": 93,
   "id": "3edb18b0",
   "metadata": {},
   "outputs": [
    {
     "ename": "TypeError",
     "evalue": "'float' object cannot be interpreted as an integer",
     "output_type": "error",
     "traceback": [
      "\u001b[1;31m---------------------------------------------------------------------------\u001b[0m",
      "\u001b[1;31mTypeError\u001b[0m                                 Traceback (most recent call last)",
      "\u001b[1;32m~\\AppData\\Local\\Temp/ipykernel_22464/2714449891.py\u001b[0m in \u001b[0;36m<module>\u001b[1;34m\u001b[0m\n\u001b[1;32m----> 1\u001b[1;33m \u001b[0mincome_ticks\u001b[0m \u001b[1;33m=\u001b[0m \u001b[0mlist\u001b[0m\u001b[1;33m(\u001b[0m\u001b[0mrange\u001b[0m\u001b[1;33m(\u001b[0m\u001b[1;36m0\u001b[0m\u001b[1;33m,\u001b[0m\u001b[1;36m20\u001b[0m\u001b[1;33m/\u001b[0m\u001b[1;36m10000000000\u001b[0m\u001b[1;33m,\u001b[0m\u001b[1;36m2\u001b[0m\u001b[1;33m/\u001b[0m\u001b[1;36m10000000000\u001b[0m\u001b[1;33m)\u001b[0m\u001b[1;33m)\u001b[0m\u001b[1;33m\u001b[0m\u001b[1;33m\u001b[0m\u001b[0m\n\u001b[0m\u001b[0;32m      2\u001b[0m \u001b[0mincome_ticks\u001b[0m\u001b[1;33m\u001b[0m\u001b[1;33m\u001b[0m\u001b[0m\n",
      "\u001b[1;31mTypeError\u001b[0m: 'float' object cannot be interpreted as an integer"
     ]
    }
   ],
   "source": [
    "income_ticks = list(range(0,20/10000000000,2/10000000000))\n",
    "income_ticks"
   ]
  },
  {
   "cell_type": "code",
   "execution_count": 95,
   "id": "ee8af157",
   "metadata": {},
   "outputs": [
    {
     "name": "stdout",
     "output_type": "stream",
     "text": [
      "[0.0, 2e-10, 4e-10, 6e-10, 8e-10, 1e-09, 1.2e-09, 1.4e-09, 1.6e-09, 1.8e-09]\n"
     ]
    }
   ],
   "source": [
    "float_list = [float(i) / 10000000000 for i in range(0, 20, 2)]\n",
    "print(float_list)"
   ]
  },
  {
   "cell_type": "code",
   "execution_count": 98,
   "id": "67ce8098",
   "metadata": {},
   "outputs": [
    {
     "data": {
      "text/plain": [
       "[0, 2, 4, 6, 8]"
      ]
     },
     "execution_count": 98,
     "metadata": {},
     "output_type": "execute_result"
    }
   ],
   "source": [
    "list(range(0,10,2))"
   ]
  }
 ],
 "metadata": {
  "kernelspec": {
   "display_name": "Python 3 (ipykernel)",
   "language": "python",
   "name": "python3"
  },
  "language_info": {
   "codemirror_mode": {
    "name": "ipython",
    "version": 3
   },
   "file_extension": ".py",
   "mimetype": "text/x-python",
   "name": "python",
   "nbconvert_exporter": "python",
   "pygments_lexer": "ipython3",
   "version": "3.9.7"
  }
 },
 "nbformat": 4,
 "nbformat_minor": 5
}
